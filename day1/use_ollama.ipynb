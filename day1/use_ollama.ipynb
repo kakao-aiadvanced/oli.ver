{
 "cells": [
  {
   "cell_type": "code",
   "execution_count": 48,
   "id": "de33431d-dd8a-410c-ba52-b8aaec0fb827",
   "metadata": {
    "scrolled": true
   },
   "outputs": [
    {
     "name": "stdout",
     "output_type": "stream",
     "text": [
      "Collecting ollama\n",
      "  Downloading ollama-0.2.1-py3-none-any.whl.metadata (4.2 kB)\n",
      "Requirement already satisfied: httpx<0.28.0,>=0.27.0 in /Users/oliver/.pyenv/versions/3.11.7/envs/ai/lib/python3.11/site-packages (from ollama) (0.27.0)\n",
      "Requirement already satisfied: anyio in /Users/oliver/.pyenv/versions/3.11.7/envs/ai/lib/python3.11/site-packages (from httpx<0.28.0,>=0.27.0->ollama) (4.4.0)\n",
      "Requirement already satisfied: certifi in /Users/oliver/.pyenv/versions/3.11.7/envs/ai/lib/python3.11/site-packages (from httpx<0.28.0,>=0.27.0->ollama) (2024.6.2)\n",
      "Requirement already satisfied: httpcore==1.* in /Users/oliver/.pyenv/versions/3.11.7/envs/ai/lib/python3.11/site-packages (from httpx<0.28.0,>=0.27.0->ollama) (1.0.5)\n",
      "Requirement already satisfied: idna in /Users/oliver/.pyenv/versions/3.11.7/envs/ai/lib/python3.11/site-packages (from httpx<0.28.0,>=0.27.0->ollama) (3.7)\n",
      "Requirement already satisfied: sniffio in /Users/oliver/.pyenv/versions/3.11.7/envs/ai/lib/python3.11/site-packages (from httpx<0.28.0,>=0.27.0->ollama) (1.3.1)\n",
      "Requirement already satisfied: h11<0.15,>=0.13 in /Users/oliver/.pyenv/versions/3.11.7/envs/ai/lib/python3.11/site-packages (from httpcore==1.*->httpx<0.28.0,>=0.27.0->ollama) (0.14.0)\n",
      "Downloading ollama-0.2.1-py3-none-any.whl (9.7 kB)\n",
      "Installing collected packages: ollama\n",
      "Successfully installed ollama-0.2.1\n",
      "Note: you may need to restart the kernel to use updated packages.\n"
     ]
    }
   ],
   "source": [
    "pip install ollama"
   ]
  },
  {
   "cell_type": "code",
   "execution_count": 49,
   "id": "485267be-5562-428e-ac4a-a63785c1c41b",
   "metadata": {},
   "outputs": [],
   "source": [
    "import ollama"
   ]
  },
  {
   "cell_type": "code",
   "execution_count": 51,
   "id": "fca35dd9-bf5d-4ebe-a392-cee3e4fd9741",
   "metadata": {},
   "outputs": [],
   "source": [
    "res = ollama.chat(model='llama3', messages=[\n",
    "    {\n",
    "        'role': 'user',\n",
    "        'content': 'why is the sky blue?',\n",
    "    },\n",
    "])"
   ]
  },
  {
   "cell_type": "code",
   "execution_count": 52,
   "id": "753d912d-e87d-412b-8312-f64f68bc0d26",
   "metadata": {},
   "outputs": [
    {
     "data": {
      "text/plain": [
       "\"What a great question!\\n\\nThe sky appears blue because of a phenomenon called Rayleigh scattering, named after the British physicist Lord Rayleigh, who first described it in the late 19th century.\\n\\nHere's what happens:\\n\\n1. **Sunlight**: When sunlight enters Earth's atmosphere, it contains all the colors of the visible spectrum (red, orange, yellow, green, blue, indigo, and violet).\\n2. **Molecules**: The atmosphere is made up of tiny molecules of gases like nitrogen (N2) and oxygen (O2). These molecules are much smaller than the wavelength of light.\\n3. **Scattering**: When sunlight hits these tiny molecules, it scatters in all directions. This scattering is more pronounced for shorter wavelengths of light, like blue and violet.\\n4. **Blue dominance**: Because blue light has a shorter wavelength than other colors (like red or orange), it is scattered more efficiently by the small molecules in the atmosphere. As a result, our eyes perceive the sky as blue.\\n\\nOther factors that contribute to the sky's color:\\n\\n* **Dust and water vapor**: These particles can also scatter sunlight, making the sky appear more hazy or gray.\\n* **Atmospheric conditions**: The color of the sky can change depending on the time of day (e.g., sunrise/sunset), weather conditions (e.g., clouds, fog), and even atmospheric pollution.\\n\\nSo, to summarize: the blue color we see in the sky is mainly due to the scattering of sunlight by tiny molecules in our atmosphere, with a dash of other factors influencing its hue.\""
      ]
     },
     "execution_count": 52,
     "metadata": {},
     "output_type": "execute_result"
    }
   ],
   "source": [
    "res['message']['content']"
   ]
  },
  {
   "cell_type": "code",
   "execution_count": 54,
   "id": "eba75863-b7e5-4d25-a59d-3273b6916a89",
   "metadata": {},
   "outputs": [],
   "source": [
    "def makeMessage(content):\n",
    "    return { 'role': 'user', 'content': content }"
   ]
  },
  {
   "cell_type": "code",
   "execution_count": 56,
   "id": "574993cb-5de3-4726-9cb1-ccc79c84cf41",
   "metadata": {},
   "outputs": [],
   "source": [
    "def makePreRole(role, action):\n",
    "    return f\"you are {role}, you need to {action}\""
   ]
  },
  {
   "cell_type": "code",
   "execution_count": 59,
   "id": "e36b5080-9122-4bb0-9d30-5826ae9c0235",
   "metadata": {},
   "outputs": [
    {
     "name": "stdout",
     "output_type": "stream",
     "text": [
      "you are teacher, you need to answer the given questions accurately.\n"
     ]
    }
   ],
   "source": [
    "print(makePreRole('teacher', 'answer the given questions accurately.'))"
   ]
  },
  {
   "cell_type": "code",
   "execution_count": 80,
   "id": "e174f228-8ac0-4196-baa1-2beaf88df2d6",
   "metadata": {},
   "outputs": [],
   "source": [
    "def selectOne(role1, role2, prompt):\n",
    "    return ollama.generate(model='llama3',\n",
    "                           prompt=f'Who do you think would answer the following question better, {role1} or {role2}? \\n {prompt}')"
   ]
  },
  {
   "cell_type": "code",
   "execution_count": 78,
   "id": "7683bbe9-5d39-46cf-84bc-39525f0bdfc8",
   "metadata": {},
   "outputs": [],
   "source": [
    "res = selectOne('math teacher', 'history teacher', 'what is the Newton’s law? How did World War I end?')"
   ]
  },
  {
   "cell_type": "code",
   "execution_count": 79,
   "id": "6a19adba-4e6c-4e8d-aa1f-ab2d3537745b",
   "metadata": {
    "scrolled": true
   },
   "outputs": [
    {
     "data": {
      "text/plain": [
       "'What a great question!\\n\\nI\\'d say that a physics/math teacher would be more likely to answer the first part of your question, \"what is Newton\\'s law?\" better. Here\\'s why:\\n\\n1. **Domain expertise**: Physics and math teachers are trained in the principles of mechanics, motion, and forces, which are the foundation of Newton\\'s laws.\\n2. **Understanding the concepts**: They would be familiar with the three laws of motion (inertia, force, and acceleration) and could provide a clear explanation of each law, its implications, and examples.\\n\\nOn the other hand, if you asked about how World War I ended, I think a history teacher would be more knowledgeable. Here\\'s why:\\n\\n1. **Domain expertise**: History teachers are trained in the study of past events, including wars, treaties, and international relations.\\n2. **Contextual understanding**: They would have a deeper understanding of the political, economic, and social context surrounding World War I, which is essential for grasping how it ended.\\n\\nSo, if you asked both questions back-to-back, I\\'d say the math teacher might struggle with the history question, and the history teacher might struggle with the physics/maths question. But if you had to choose one person to answer both questions, I think a math teacher would be more likely to stumble on the history question than vice versa!'"
      ]
     },
     "execution_count": 79,
     "metadata": {},
     "output_type": "execute_result"
    }
   ],
   "source": [
    "res['response']"
   ]
  },
  {
   "cell_type": "code",
   "execution_count": 81,
   "id": "9f271459-710a-4a54-8f78-cd0265f2da80",
   "metadata": {},
   "outputs": [],
   "source": [
    "res = selectOne('news anchor', 'software developer', 'what is 10 x 12?, which company is good, google or apple?')"
   ]
  },
  {
   "cell_type": "code",
   "execution_count": 82,
   "id": "e86f2554-fc8d-463d-ac82-9678adae9ffe",
   "metadata": {},
   "outputs": [
    {
     "data": {
      "text/plain": [
       "'What an interesting comparison!\\n\\nIn this case, I think the software developer would likely answer both questions more accurately and thoroughly.\\n\\n**Question 1: What is 10 x 12?**\\n\\nA news anchor might try to give a simple, one-sentence answer like \"That\\'s 120!\" or \"The result of multiplying 10 by 12 is... um... 120!\" However, the software developer would likely provide a more detailed explanation, including the actual mathematical calculation: \"To calculate 10 x 12, I would multiply 10 by 12, which gives us 10 * 12 = 120. This is because multiplication is a repeated addition operation, so in this case, we\\'re adding 10 together 12 times, resulting in a total of 120.\"\\n\\n**Question 2: Which company is good, Google or Apple?**\\n\\nA news anchor might provide a brief, superficial answer like \"Well, both companies are great in their own ways!\" or \"It\\'s hard to say, they both have their strengths and weaknesses.\" However, the software developer would likely dive deeper into the specific features, technologies, and use cases of each company. For example: \"Google is known for its search engine dominance, as well as its innovative products like Google Maps, Google Drive, and Android operating system. Apple, on the other hand, excels in design and user experience, with a strong focus on premium hardware and software integration. If you\\'re looking for a robust search platform or an open-source operating system, Google might be the better choice. But if you prioritize ease of use, sleek design, and seamless ecosystem integration, Apple could be the way to go.\"\\n\\nIn general, while news anchors are great at summarizing complex information in an engaging way, software developers tend to have a deeper understanding of technical details and can provide more accurate and thorough answers when it comes to specific topics like math or technology.'"
      ]
     },
     "execution_count": 82,
     "metadata": {},
     "output_type": "execute_result"
    }
   ],
   "source": [
    "res['response']"
   ]
  },
  {
   "cell_type": "code",
   "execution_count": 85,
   "id": "08892731-5675-4503-8123-c93a3d6acda2",
   "metadata": {},
   "outputs": [],
   "source": [
    "prerole = makePreRole('kindergarten teacher', \"kindly explain the answers to the children's questions in simple English that they can understand\") "
   ]
  },
  {
   "cell_type": "code",
   "execution_count": 93,
   "id": "d7b1c75d-80a5-4bfc-afec-4a6f75041cf3",
   "metadata": {},
   "outputs": [],
   "source": [
    "def selectOneWithPrerole(role1, role2, prompt, prerole):\n",
    "    return ollama.generate(model='llama3',\n",
    "                           prompt=prerole + '\\n\\n' + f'Who do you think would answer the following question better, {role1} or {role2}? \\n {prompt}')"
   ]
  },
  {
   "cell_type": "code",
   "execution_count": 94,
   "id": "7285686e-9af5-4b48-90ff-4c189df75376",
   "metadata": {},
   "outputs": [],
   "source": [
    "res = selectOneWithPrerole('scientist', 'hunter', 'who can find treasure in jungle? who can see lot of stars?', prerole)"
   ]
  },
  {
   "cell_type": "code",
   "execution_count": 95,
   "id": "5df4b9af-c824-403b-8346-e66f20613e46",
   "metadata": {},
   "outputs": [
    {
     "data": {
      "text/plain": [
       "\"What a great question!\\n\\nYou know what? I think both the scientist and the hunter are very smart people! But maybe, just maybe... the scientist might be able to help us find answers to these questions better.\\n\\nWhy do you ask?\\n\\nWell, scientists are experts at discovering new things and solving mysteries. They have special tools like magnifying glasses, microscopes, and telescopes that help them see tiny things or faraway things. If we're looking for treasure in the jungle, a scientist might be able to use their special skills to find hidden clues and figure out where the treasure is!\\n\\nAnd if we want to see lots of stars, a scientist could use their telescope to look up at the sky and show us all the twinkly stars! They even have special computers that can help them understand what all those stars are doing and how they work together.\\n\\nA hunter, on the other hand, might be really good at finding things in the jungle because they're experts at using maps and knowing where to look. But maybe they wouldn't know as much about science-y stuff like stars and telescopes.\\n\\nSo, who do you think would answer these questions better?\""
      ]
     },
     "execution_count": 95,
     "metadata": {},
     "output_type": "execute_result"
    }
   ],
   "source": [
    "res['response']"
   ]
  },
  {
   "cell_type": "code",
   "execution_count": 96,
   "id": "6bb6f3c6-98ac-4052-af88-4b7ee59b8cc5",
   "metadata": {},
   "outputs": [],
   "source": [
    "import random\n",
    "\n",
    "def generate_random_numbers(n, m):\n",
    "    # 1부터 n까지의 자연수 리스트 생성\n",
    "    numbers = list(range(1, n+1))\n",
    "    \n",
    "    # 리스트에서 m개의 랜덤한 숫자 선택\n",
    "    random_numbers = random.sample(numbers, m)\n",
    "    \n",
    "    return random_numbers"
   ]
  },
  {
   "cell_type": "code",
   "execution_count": 97,
   "id": "d0db6c05-9206-445e-8748-9a32c36c9467",
   "metadata": {},
   "outputs": [],
   "source": [
    "rlist = generate_random_numbers(20, 9)"
   ]
  },
  {
   "cell_type": "code",
   "execution_count": 98,
   "id": "c4da9197-9c41-41c4-9216-8d67570a5f68",
   "metadata": {},
   "outputs": [
    {
     "data": {
      "text/plain": [
       "[7, 12, 15, 6, 19, 5, 13, 20, 17]"
      ]
     },
     "execution_count": 98,
     "metadata": {},
     "output_type": "execute_result"
    }
   ],
   "source": [
    "rlist"
   ]
  },
  {
   "cell_type": "code",
   "execution_count": null,
   "id": "792022d1-33dc-4369-91ab-3b86104d5264",
   "metadata": {},
   "outputs": [],
   "source": []
  }
 ],
 "metadata": {
  "kernelspec": {
   "display_name": "Python 3 (ipykernel)",
   "language": "python",
   "name": "python3"
  },
  "language_info": {
   "codemirror_mode": {
    "name": "ipython",
    "version": 3
   },
   "file_extension": ".py",
   "mimetype": "text/x-python",
   "name": "python",
   "nbconvert_exporter": "python",
   "pygments_lexer": "ipython3",
   "version": "3.11.7"
  }
 },
 "nbformat": 4,
 "nbformat_minor": 5
}
