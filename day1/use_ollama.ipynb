{
 "cells": [
  {
   "cell_type": "code",
   "execution_count": 48,
   "id": "de33431d-dd8a-410c-ba52-b8aaec0fb827",
   "metadata": {
    "scrolled": true
   },
   "outputs": [
    {
     "name": "stdout",
     "output_type": "stream",
     "text": [
      "Collecting ollama\n",
      "  Downloading ollama-0.2.1-py3-none-any.whl.metadata (4.2 kB)\n",
      "Requirement already satisfied: httpx<0.28.0,>=0.27.0 in /Users/oliver/.pyenv/versions/3.11.7/envs/ai/lib/python3.11/site-packages (from ollama) (0.27.0)\n",
      "Requirement already satisfied: anyio in /Users/oliver/.pyenv/versions/3.11.7/envs/ai/lib/python3.11/site-packages (from httpx<0.28.0,>=0.27.0->ollama) (4.4.0)\n",
      "Requirement already satisfied: certifi in /Users/oliver/.pyenv/versions/3.11.7/envs/ai/lib/python3.11/site-packages (from httpx<0.28.0,>=0.27.0->ollama) (2024.6.2)\n",
      "Requirement already satisfied: httpcore==1.* in /Users/oliver/.pyenv/versions/3.11.7/envs/ai/lib/python3.11/site-packages (from httpx<0.28.0,>=0.27.0->ollama) (1.0.5)\n",
      "Requirement already satisfied: idna in /Users/oliver/.pyenv/versions/3.11.7/envs/ai/lib/python3.11/site-packages (from httpx<0.28.0,>=0.27.0->ollama) (3.7)\n",
      "Requirement already satisfied: sniffio in /Users/oliver/.pyenv/versions/3.11.7/envs/ai/lib/python3.11/site-packages (from httpx<0.28.0,>=0.27.0->ollama) (1.3.1)\n",
      "Requirement already satisfied: h11<0.15,>=0.13 in /Users/oliver/.pyenv/versions/3.11.7/envs/ai/lib/python3.11/site-packages (from httpcore==1.*->httpx<0.28.0,>=0.27.0->ollama) (0.14.0)\n",
      "Downloading ollama-0.2.1-py3-none-any.whl (9.7 kB)\n",
      "Installing collected packages: ollama\n",
      "Successfully installed ollama-0.2.1\n",
      "Note: you may need to restart the kernel to use updated packages.\n"
     ]
    }
   ],
   "source": [
    "pip install ollama"
   ]
  },
  {
   "cell_type": "code",
   "execution_count": 49,
   "id": "485267be-5562-428e-ac4a-a63785c1c41b",
   "metadata": {},
   "outputs": [],
   "source": [
    "import ollama"
   ]
  },
  {
   "cell_type": "code",
   "execution_count": 51,
   "id": "fca35dd9-bf5d-4ebe-a392-cee3e4fd9741",
   "metadata": {},
   "outputs": [],
   "source": [
    "res = ollama.chat(model='llama3', messages=[\n",
    "    {\n",
    "        'role': 'user',\n",
    "        'content': 'why is the sky blue?',\n",
    "    },\n",
    "])"
   ]
  },
  {
   "cell_type": "code",
   "execution_count": 52,
   "id": "753d912d-e87d-412b-8312-f64f68bc0d26",
   "metadata": {},
   "outputs": [
    {
     "data": {
      "text/plain": [
       "\"What a great question!\\n\\nThe sky appears blue because of a phenomenon called Rayleigh scattering, named after the British physicist Lord Rayleigh, who first described it in the late 19th century.\\n\\nHere's what happens:\\n\\n1. **Sunlight**: When sunlight enters Earth's atmosphere, it contains all the colors of the visible spectrum (red, orange, yellow, green, blue, indigo, and violet).\\n2. **Molecules**: The atmosphere is made up of tiny molecules of gases like nitrogen (N2) and oxygen (O2). These molecules are much smaller than the wavelength of light.\\n3. **Scattering**: When sunlight hits these tiny molecules, it scatters in all directions. This scattering is more pronounced for shorter wavelengths of light, like blue and violet.\\n4. **Blue dominance**: Because blue light has a shorter wavelength than other colors (like red or orange), it is scattered more efficiently by the small molecules in the atmosphere. As a result, our eyes perceive the sky as blue.\\n\\nOther factors that contribute to the sky's color:\\n\\n* **Dust and water vapor**: These particles can also scatter sunlight, making the sky appear more hazy or gray.\\n* **Atmospheric conditions**: The color of the sky can change depending on the time of day (e.g., sunrise/sunset), weather conditions (e.g., clouds, fog), and even atmospheric pollution.\\n\\nSo, to summarize: the blue color we see in the sky is mainly due to the scattering of sunlight by tiny molecules in our atmosphere, with a dash of other factors influencing its hue.\""
      ]
     },
     "execution_count": 52,
     "metadata": {},
     "output_type": "execute_result"
    }
   ],
   "source": [
    "res['message']['content']"
   ]
  },
  {
   "cell_type": "code",
   "execution_count": 54,
   "id": "eba75863-b7e5-4d25-a59d-3273b6916a89",
   "metadata": {},
   "outputs": [],
   "source": [
    "def makeMessage(content):\n",
    "    return { 'role': 'user', 'content': content }"
   ]
  },
  {
   "cell_type": "code",
   "execution_count": 56,
   "id": "574993cb-5de3-4726-9cb1-ccc79c84cf41",
   "metadata": {},
   "outputs": [],
   "source": [
    "def makePreRole(role, action):\n",
    "    return f\"you are {role}, you need to {action}\""
   ]
  },
  {
   "cell_type": "code",
   "execution_count": 59,
   "id": "e36b5080-9122-4bb0-9d30-5826ae9c0235",
   "metadata": {},
   "outputs": [
    {
     "name": "stdout",
     "output_type": "stream",
     "text": [
      "you are teacher, you need to answer the given questions accurately.\n"
     ]
    }
   ],
   "source": [
    "print(makePreRole('teacher', 'answer the given questions accurately.'))"
   ]
  },
  {
   "cell_type": "code",
   "execution_count": 80,
   "id": "e174f228-8ac0-4196-baa1-2beaf88df2d6",
   "metadata": {},
   "outputs": [],
   "source": [
    "def selectOne(role1, role2, prompt):\n",
    "    return ollama.generate(model='llama3',\n",
    "                           prompt=f'Who do you think would answer the following question better, {role1} or {role2}? \\n {prompt}')"
   ]
  },
  {
   "cell_type": "code",
   "execution_count": 78,
   "id": "7683bbe9-5d39-46cf-84bc-39525f0bdfc8",
   "metadata": {},
   "outputs": [],
   "source": [
    "res = selectOne('math teacher', 'history teacher', 'what is the Newton’s law? How did World War I end?')"
   ]
  },
  {
   "cell_type": "code",
   "execution_count": 79,
   "id": "6a19adba-4e6c-4e8d-aa1f-ab2d3537745b",
   "metadata": {
    "scrolled": true
   },
   "outputs": [
    {
     "data": {
      "text/plain": [
       "'What a great question!\\n\\nI\\'d say that a physics/math teacher would be more likely to answer the first part of your question, \"what is Newton\\'s law?\" better. Here\\'s why:\\n\\n1. **Domain expertise**: Physics and math teachers are trained in the principles of mechanics, motion, and forces, which are the foundation of Newton\\'s laws.\\n2. **Understanding the concepts**: They would be familiar with the three laws of motion (inertia, force, and acceleration) and could provide a clear explanation of each law, its implications, and examples.\\n\\nOn the other hand, if you asked about how World War I ended, I think a history teacher would be more knowledgeable. Here\\'s why:\\n\\n1. **Domain expertise**: History teachers are trained in the study of past events, including wars, treaties, and international relations.\\n2. **Contextual understanding**: They would have a deeper understanding of the political, economic, and social context surrounding World War I, which is essential for grasping how it ended.\\n\\nSo, if you asked both questions back-to-back, I\\'d say the math teacher might struggle with the history question, and the history teacher might struggle with the physics/maths question. But if you had to choose one person to answer both questions, I think a math teacher would be more likely to stumble on the history question than vice versa!'"
      ]
     },
     "execution_count": 79,
     "metadata": {},
     "output_type": "execute_result"
    }
   ],
   "source": [
    "res['response']"
   ]
  },
  {
   "cell_type": "code",
   "execution_count": 81,
   "id": "9f271459-710a-4a54-8f78-cd0265f2da80",
   "metadata": {},
   "outputs": [],
   "source": [
    "res = selectOne('news anchor', 'software developer', 'what is 10 x 12?, which company is good, google or apple?')"
   ]
  },
  {
   "cell_type": "code",
   "execution_count": 82,
   "id": "e86f2554-fc8d-463d-ac82-9678adae9ffe",
   "metadata": {},
   "outputs": [
    {
     "data": {
      "text/plain": [
       "'What an interesting comparison!\\n\\nIn this case, I think the software developer would likely answer both questions more accurately and thoroughly.\\n\\n**Question 1: What is 10 x 12?**\\n\\nA news anchor might try to give a simple, one-sentence answer like \"That\\'s 120!\" or \"The result of multiplying 10 by 12 is... um... 120!\" However, the software developer would likely provide a more detailed explanation, including the actual mathematical calculation: \"To calculate 10 x 12, I would multiply 10 by 12, which gives us 10 * 12 = 120. This is because multiplication is a repeated addition operation, so in this case, we\\'re adding 10 together 12 times, resulting in a total of 120.\"\\n\\n**Question 2: Which company is good, Google or Apple?**\\n\\nA news anchor might provide a brief, superficial answer like \"Well, both companies are great in their own ways!\" or \"It\\'s hard to say, they both have their strengths and weaknesses.\" However, the software developer would likely dive deeper into the specific features, technologies, and use cases of each company. For example: \"Google is known for its search engine dominance, as well as its innovative products like Google Maps, Google Drive, and Android operating system. Apple, on the other hand, excels in design and user experience, with a strong focus on premium hardware and software integration. If you\\'re looking for a robust search platform or an open-source operating system, Google might be the better choice. But if you prioritize ease of use, sleek design, and seamless ecosystem integration, Apple could be the way to go.\"\\n\\nIn general, while news anchors are great at summarizing complex information in an engaging way, software developers tend to have a deeper understanding of technical details and can provide more accurate and thorough answers when it comes to specific topics like math or technology.'"
      ]
     },
     "execution_count": 82,
     "metadata": {},
     "output_type": "execute_result"
    }
   ],
   "source": [
    "res['response']"
   ]
  },
  {
   "cell_type": "code",
   "execution_count": 85,
   "id": "08892731-5675-4503-8123-c93a3d6acda2",
   "metadata": {},
   "outputs": [],
   "source": [
    "prerole = makePreRole('kindergarten teacher', \"kindly explain the answers to the children's questions in simple English that they can understand\") "
   ]
  },
  {
   "cell_type": "code",
   "execution_count": 93,
   "id": "d7b1c75d-80a5-4bfc-afec-4a6f75041cf3",
   "metadata": {},
   "outputs": [],
   "source": [
    "def selectOneWithPrerole(role1, role2, prompt, prerole):\n",
    "    return ollama.generate(model='llama3',\n",
    "                           prompt=prerole + '\\n\\n' + f'Who do you think would answer the following question better, {role1} or {role2}? \\n {prompt}')"
   ]
  },
  {
   "cell_type": "code",
   "execution_count": 94,
   "id": "7285686e-9af5-4b48-90ff-4c189df75376",
   "metadata": {},
   "outputs": [],
   "source": [
    "res = selectOneWithPrerole('scientist', 'hunter', 'who can find treasure in jungle? who can see lot of stars?', prerole)"
   ]
  },
  {
   "cell_type": "code",
   "execution_count": 95,
   "id": "5df4b9af-c824-403b-8346-e66f20613e46",
   "metadata": {},
   "outputs": [
    {
     "data": {
      "text/plain": [
       "\"What a great question!\\n\\nYou know what? I think both the scientist and the hunter are very smart people! But maybe, just maybe... the scientist might be able to help us find answers to these questions better.\\n\\nWhy do you ask?\\n\\nWell, scientists are experts at discovering new things and solving mysteries. They have special tools like magnifying glasses, microscopes, and telescopes that help them see tiny things or faraway things. If we're looking for treasure in the jungle, a scientist might be able to use their special skills to find hidden clues and figure out where the treasure is!\\n\\nAnd if we want to see lots of stars, a scientist could use their telescope to look up at the sky and show us all the twinkly stars! They even have special computers that can help them understand what all those stars are doing and how they work together.\\n\\nA hunter, on the other hand, might be really good at finding things in the jungle because they're experts at using maps and knowing where to look. But maybe they wouldn't know as much about science-y stuff like stars and telescopes.\\n\\nSo, who do you think would answer these questions better?\""
      ]
     },
     "execution_count": 95,
     "metadata": {},
     "output_type": "execute_result"
    }
   ],
   "source": [
    "res['response']"
   ]
  },
  {
   "cell_type": "code",
   "execution_count": 96,
   "id": "6bb6f3c6-98ac-4052-af88-4b7ee59b8cc5",
   "metadata": {},
   "outputs": [],
   "source": [
    "import random\n",
    "\n",
    "def generate_random_numbers(n, m):\n",
    "    # 1부터 n까지의 자연수 리스트 생성\n",
    "    numbers = list(range(1, n+1))\n",
    "    \n",
    "    # 리스트에서 m개의 랜덤한 숫자 선택\n",
    "    random_numbers = random.sample(numbers, m)\n",
    "    \n",
    "    return random_numbers"
   ]
  },
  {
   "cell_type": "code",
   "execution_count": 137,
   "id": "d0db6c05-9206-445e-8748-9a32c36c9467",
   "metadata": {},
   "outputs": [],
   "source": [
    "rlist1 = generate_random_numbers(10000, 100)\n",
    "rlist2 = generate_random_numbers(10000, 100)\n",
    "rlist3 = generate_random_numbers(10000, 100)"
   ]
  },
  {
   "cell_type": "code",
   "execution_count": 138,
   "id": "c4da9197-9c41-41c4-9216-8d67570a5f68",
   "metadata": {},
   "outputs": [
    {
     "name": "stdout",
     "output_type": "stream",
     "text": [
      "[8090, 9304, 2195, 6479, 1086, 4386, 9247, 2226, 7135, 9726, 5788, 1892, 5349, 3661, 6808, 135, 7332, 4024, 2074, 1531, 5717, 3771, 1004, 2376, 9615, 3367, 5329, 2150, 2064, 3165, 3913, 4758, 2981, 1686, 4954, 7184, 5536, 6628, 7557, 4453, 9164, 7584, 1368, 5612, 3457, 7771, 4240, 5673, 8668, 1259, 8960, 7485, 4564, 4658, 7547, 5811, 7196, 9746, 4225, 4222, 6166, 3291, 606, 4839, 2588, 2752, 4159, 6670, 7632, 608, 7903, 82, 2953, 8404, 9157, 1752, 6452, 8324, 920, 2536, 4475, 2445, 2353, 4070, 2532, 8494, 6524, 6770, 7787, 6254, 8046, 3414, 5489, 1834, 1581, 4822, 6578, 7790, 2497, 6017]\n",
      "[9371, 8455, 7515, 5728, 3844, 4224, 5671, 6910, 959, 1014, 5790, 1540, 240, 7242, 7723, 7891, 5218, 3535, 8136, 5381, 7624, 6051, 8188, 3970, 4891, 2760, 2952, 5649, 2097, 3299, 2408, 7658, 2046, 3303, 7355, 5152, 9326, 855, 8328, 4116, 4638, 5235, 9318, 8377, 9640, 9477, 6057, 7962, 5008, 7693, 1651, 9645, 4918, 7957, 3881, 5800, 8270, 5945, 1577, 4309, 4676, 6125, 944, 5209, 1615, 466, 6363, 7121, 2725, 6190, 5547, 5793, 217, 4082, 9167, 785, 922, 2875, 8447, 4983, 7748, 4511, 1376, 5789, 1091, 6934, 6211, 2902, 7459, 9308, 2585, 7163, 670, 9274, 6038, 7217, 9591, 4564, 3948, 4033]\n",
      "[3767, 3578, 9388, 7296, 1949, 8862, 632, 201, 2050, 9406, 9087, 7450, 2691, 3661, 1298, 8648, 9434, 4045, 4797, 1695, 9662, 8726, 4135, 6725, 2183, 2890, 9054, 1585, 5949, 5007, 7884, 134, 770, 5168, 3820, 8647, 2139, 5274, 1973, 8057, 8572, 5272, 4635, 9227, 4052, 1976, 9360, 4829, 5235, 3492, 8299, 4282, 8361, 8962, 7042, 3265, 6781, 8385, 166, 2120, 454, 1927, 115, 3545, 3451, 63, 4060, 3340, 8866, 2801, 1535, 9028, 3791, 7919, 5237, 5303, 8487, 7055, 2012, 2200, 2607, 3429, 9739, 1854, 9674, 9343, 2040, 808, 8017, 9555, 998, 7283, 5587, 2766, 2586, 5030, 5865, 4325, 1391, 5464]\n"
     ]
    }
   ],
   "source": [
    "print(rlist1)\n",
    "print(rlist2)\n",
    "print(rlist3)"
   ]
  },
  {
   "cell_type": "code",
   "execution_count": 128,
   "id": "792022d1-33dc-4369-91ab-3b86104d5264",
   "metadata": {},
   "outputs": [],
   "source": [
    "def sorter(prerole, numlist):\n",
    "\n",
    "        return ollama.generate(model='llama3',\n",
    "                           prompt=prerole + '\\n\\n' + f'please Sort the numbers from smallest to largest with given list  without \\\\n just python list shape : {str(numlist)}')"
   ]
  },
  {
   "cell_type": "code",
   "execution_count": 129,
   "id": "c76f56e0-1383-41a5-94cd-021e908752ae",
   "metadata": {},
   "outputs": [],
   "source": [
    "res1 = sorter('', rlist)"
   ]
  },
  {
   "cell_type": "code",
   "execution_count": 130,
   "id": "236256c5-809d-4204-9570-f638a29f59d0",
   "metadata": {},
   "outputs": [
    {
     "data": {
      "text/plain": [
       "'Here is the sorted list of numbers from smallest to largest:\\n\\n[35, 141, 162, 182, 1854, 1960, 2081, 2180, 2455, 250, 2567, 2579, 2588, 2943, 2954, 3049, 3185, 3249, 3502, 3581, 3846, 3943, 4061, 4088, 4142, 4219, 4369, 4454, 4472, 4611, 4628, 4682, 4688, 4745, 476, 5025, 5062, 5057, 5226, 5292, 5299, 5373, 5400, 5465, 5503, 554, 5605, 5609, 5673, 5977, 605, 6274, 6301, 6421, 664, 6762, 6969, 6978, 6996, 7090, 7108, 7199, 7246, 7364, 7377, 7384, 7411, 7543, 7566, 7823, 787, 804, 832, 8423, 8555, 8593, 8822, 8877, 8980, 9010, 9276, 938, 9555]\\n\\nLet me know if you have any further questions!'"
      ]
     },
     "execution_count": 130,
     "metadata": {},
     "output_type": "execute_result"
    }
   ],
   "source": [
    "res1['response']"
   ]
  },
  {
   "cell_type": "code",
   "execution_count": 134,
   "id": "27cc3e39-09a9-4624-ada2-c662d8282ce6",
   "metadata": {},
   "outputs": [],
   "source": [
    "pr = makePreRole('math teacher', 'kindly explain the answers to the questions step by step and do not sort string number, sort number size')"
   ]
  },
  {
   "cell_type": "code",
   "execution_count": 135,
   "id": "e6fa3efa-f6df-43d1-8dc1-8a8a3e906a55",
   "metadata": {},
   "outputs": [],
   "source": [
    "res2 = sorter(pr, rlist)"
   ]
  },
  {
   "cell_type": "code",
   "execution_count": 136,
   "id": "095d1273-6338-4ea3-9a34-ed3c701fe054",
   "metadata": {},
   "outputs": [
    {
     "data": {
      "text/plain": [
       "\"I'd be happy to help you sort the numbers from smallest to largest. Here's the step-by-step process:\\n\\nFirst, let's start by writing down the numbers in a list:\\n\\n[6969, 4688, 3581, 2093, 8184, 5455, 4968, 6301, 4642, 8423, 6762, 2552, 7246, 5062, 7343, 1819, 1997, 5673, 2313, 7364, 9276, 2180, 3943, 605, 5299, 5609, 6421, 4611, 938, 3088, 5057, 476, 4061, 554, 804, 4369, 664, 2081, 3502, 8223, 4142, 8877, 5292, 8527, 1185, 9562, 7199, 8593, 1725, 8357, 3185, 3049, 2455, 7377, 4871, 1854, 5503, 7411, 4682, 250, 5977, 162, 1960, 3249, 937, 5226, 5025, 35, 5605, 3377, 141, 832, 9058, 8980, 3846, 1001, 4454, 1035, 7384, 7085, 7566, 8812, 2954, 6978, 1243, 2484, 787, 1207, 5393, 2579, 9010, 9555, 4472, 6946, 4264, 7330, 4088, 5465, 4219, 1900]\\n\\nNext, we'll compare the first two numbers in the list: 6969 and 4688. Since 4688 is smaller than 6969, we'll put it at the beginning of the list.\\n\\n[4688, 6969, ... ]\\n\\nNow, let's compare the next pair of numbers: 3581 and 2093. Since 2093 is smaller than 3581, we'll put it after 4688 in the list:\\n\\n[4688, 2093, 3581, ... ]\\n\\nWe can continue this process until all the numbers are sorted from smallest to largest. Here's the complete sorted list:\\n\\n[35, 141, 162, 250, 254, 832, 938, 1001, 1035, 1185, 1207, 1243, 1419, 1725, 1819, 1854, 1960, 2081, 2180, 2313, 2484, 2579, 2582, 2944, 2954, 3049, 3185, 3249, 3502, 3581, 3846, 3943, 4061, 4142, 4219, 4264, 4369, 4454, 4472, 4611, 4682, 4699, 476, 4867, 4871, 4948, 4968, 5025, 5062, 5226, 5273, 5292, 5299, 5455, 5503, 5522, 554, 5605, 5609, 5623, 5673, 5977, 605, 6198, 664, 6762, 6969, 6980, 6978, 7044, 7085, 7199, 7343, 7364, 7384, 7411, 7566, 787, 805, 832, 8423, 8467, 8527, 8593, 8852, 8877, 9010, 938, 9545, 9555, 9562, 9573, 9608, 9671, 9696]\\n\\nNote that there are no numbers less than 35 in the original list.\""
      ]
     },
     "execution_count": 136,
     "metadata": {},
     "output_type": "execute_result"
    }
   ],
   "source": [
    "res2['response']"
   ]
  },
  {
   "cell_type": "code",
   "execution_count": 156,
   "id": "6e80239e-2ce5-4893-9b4e-155ef0894224",
   "metadata": {},
   "outputs": [],
   "source": [
    "def makeFewShot(q1, a1, q2, a2, q3, a3, question):\n",
    "    prompt = f\"\"\"\n",
    "        Q1.{question}\n",
    "        : {q1}\n",
    "        A1.the answer is {a1}\n",
    "\n",
    "        Q2.{question}\n",
    "        : {q2}\n",
    "        A2.the answer is {a2}\n",
    "\n",
    "        Q3.{question}\n",
    "        : {q1}\n",
    "        A3.the answer is {a1}\n",
    "    \"\"\"\n",
    "\n",
    "    return prompt\n"
   ]
  },
  {
   "cell_type": "code",
   "execution_count": 157,
   "id": "6fe3491b-5b74-42c2-afb3-5d71178d4b49",
   "metadata": {},
   "outputs": [],
   "source": [
    "p = makeFewShot(rlist1, sorted(rlist1),rlist2, sorted(rlist2),rlist3, sorted(rlist3), \"please Sort the numbers from smallest to largest with given list : \")"
   ]
  },
  {
   "cell_type": "code",
   "execution_count": 141,
   "id": "fa3998d4-46b1-4700-99b2-745c517fcf40",
   "metadata": {},
   "outputs": [
    {
     "data": {
      "text/plain": [
       "'\\n        Q1.please Sort the numbers from smallest to largest with given list\\n        : [8090, 9304, 2195, 6479, 1086, 4386, 9247, 2226, 7135, 9726, 5788, 1892, 5349, 3661, 6808, 135, 7332, 4024, 2074, 1531, 5717, 3771, 1004, 2376, 9615, 3367, 5329, 2150, 2064, 3165, 3913, 4758, 2981, 1686, 4954, 7184, 5536, 6628, 7557, 4453, 9164, 7584, 1368, 5612, 3457, 7771, 4240, 5673, 8668, 1259, 8960, 7485, 4564, 4658, 7547, 5811, 7196, 9746, 4225, 4222, 6166, 3291, 606, 4839, 2588, 2752, 4159, 6670, 7632, 608, 7903, 82, 2953, 8404, 9157, 1752, 6452, 8324, 920, 2536, 4475, 2445, 2353, 4070, 2532, 8494, 6524, 6770, 7787, 6254, 8046, 3414, 5489, 1834, 1581, 4822, 6578, 7790, 2497, 6017]\\n        A1.the answer is [82, 135, 606, 608, 920, 1004, 1086, 1259, 1368, 1531, 1581, 1686, 1752, 1834, 1892, 2064, 2074, 2150, 2195, 2226, 2353, 2376, 2445, 2497, 2532, 2536, 2588, 2752, 2953, 2981, 3165, 3291, 3367, 3414, 3457, 3661, 3771, 3913, 4024, 4070, 4159, 4222, 4225, 4240, 4386, 4453, 4475, 4564, 4658, 4758, 4822, 4839, 4954, 5329, 5349, 5489, 5536, 5612, 5673, 5717, 5788, 5811, 6017, 6166, 6254, 6452, 6479, 6524, 6578, 6628, 6670, 6770, 6808, 7135, 7184, 7196, 7332, 7485, 7547, 7557, 7584, 7632, 7771, 7787, 7790, 7903, 8046, 8090, 8324, 8404, 8494, 8668, 8960, 9157, 9164, 9247, 9304, 9615, 9726, 9746]\\n\\n        Q2.please Sort the numbers from smallest to largest with given list\\n        : [9371, 8455, 7515, 5728, 3844, 4224, 5671, 6910, 959, 1014, 5790, 1540, 240, 7242, 7723, 7891, 5218, 3535, 8136, 5381, 7624, 6051, 8188, 3970, 4891, 2760, 2952, 5649, 2097, 3299, 2408, 7658, 2046, 3303, 7355, 5152, 9326, 855, 8328, 4116, 4638, 5235, 9318, 8377, 9640, 9477, 6057, 7962, 5008, 7693, 1651, 9645, 4918, 7957, 3881, 5800, 8270, 5945, 1577, 4309, 4676, 6125, 944, 5209, 1615, 466, 6363, 7121, 2725, 6190, 5547, 5793, 217, 4082, 9167, 785, 922, 2875, 8447, 4983, 7748, 4511, 1376, 5789, 1091, 6934, 6211, 2902, 7459, 9308, 2585, 7163, 670, 9274, 6038, 7217, 9591, 4564, 3948, 4033]\\n        A2.the answer is [217, 240, 466, 670, 785, 855, 922, 944, 959, 1014, 1091, 1376, 1540, 1577, 1615, 1651, 2046, 2097, 2408, 2585, 2725, 2760, 2875, 2902, 2952, 3299, 3303, 3535, 3844, 3881, 3948, 3970, 4033, 4082, 4116, 4224, 4309, 4511, 4564, 4638, 4676, 4891, 4918, 4983, 5008, 5152, 5209, 5218, 5235, 5381, 5547, 5649, 5671, 5728, 5789, 5790, 5793, 5800, 5945, 6038, 6051, 6057, 6125, 6190, 6211, 6363, 6910, 6934, 7121, 7163, 7217, 7242, 7355, 7459, 7515, 7624, 7658, 7693, 7723, 7748, 7891, 7957, 7962, 8136, 8188, 8270, 8328, 8377, 8447, 8455, 9167, 9274, 9308, 9318, 9326, 9371, 9477, 9591, 9640, 9645]\\n\\n        Q3.please Sort the numbers from smallest to largest with given list\\n        : [8090, 9304, 2195, 6479, 1086, 4386, 9247, 2226, 7135, 9726, 5788, 1892, 5349, 3661, 6808, 135, 7332, 4024, 2074, 1531, 5717, 3771, 1004, 2376, 9615, 3367, 5329, 2150, 2064, 3165, 3913, 4758, 2981, 1686, 4954, 7184, 5536, 6628, 7557, 4453, 9164, 7584, 1368, 5612, 3457, 7771, 4240, 5673, 8668, 1259, 8960, 7485, 4564, 4658, 7547, 5811, 7196, 9746, 4225, 4222, 6166, 3291, 606, 4839, 2588, 2752, 4159, 6670, 7632, 608, 7903, 82, 2953, 8404, 9157, 1752, 6452, 8324, 920, 2536, 4475, 2445, 2353, 4070, 2532, 8494, 6524, 6770, 7787, 6254, 8046, 3414, 5489, 1834, 1581, 4822, 6578, 7790, 2497, 6017]\\n        A3.the answer is [82, 135, 606, 608, 920, 1004, 1086, 1259, 1368, 1531, 1581, 1686, 1752, 1834, 1892, 2064, 2074, 2150, 2195, 2226, 2353, 2376, 2445, 2497, 2532, 2536, 2588, 2752, 2953, 2981, 3165, 3291, 3367, 3414, 3457, 3661, 3771, 3913, 4024, 4070, 4159, 4222, 4225, 4240, 4386, 4453, 4475, 4564, 4658, 4758, 4822, 4839, 4954, 5329, 5349, 5489, 5536, 5612, 5673, 5717, 5788, 5811, 6017, 6166, 6254, 6452, 6479, 6524, 6578, 6628, 6670, 6770, 6808, 7135, 7184, 7196, 7332, 7485, 7547, 7557, 7584, 7632, 7771, 7787, 7790, 7903, 8046, 8090, 8324, 8404, 8494, 8668, 8960, 9157, 9164, 9247, 9304, 9615, 9726, 9746]\\n    '"
      ]
     },
     "execution_count": 141,
     "metadata": {},
     "output_type": "execute_result"
    }
   ],
   "source": [
    "p"
   ]
  },
  {
   "cell_type": "code",
   "execution_count": 149,
   "id": "b441dcd3-3124-4a86-836f-7e850d327fc9",
   "metadata": {},
   "outputs": [],
   "source": [
    "def sorter(prerole, fs,  numlist):\n",
    "        return ollama.generate(model='llama3',\n",
    "                           prompt=prerole + '\\n\\n' + fs  + '\\n\\n' + f'please Sort the numbers from smallest to largest with given list : {str(numlist)}')"
   ]
  },
  {
   "cell_type": "code",
   "execution_count": 143,
   "id": "a07f953c-a0a1-458a-ab14-30004f05a650",
   "metadata": {},
   "outputs": [],
   "source": [
    "rlist = generate_random_numbers(10000, 100)"
   ]
  },
  {
   "cell_type": "code",
   "execution_count": 144,
   "id": "162d0c3d-5bb0-49ad-9678-b96fbbd60a5e",
   "metadata": {},
   "outputs": [],
   "source": [
    "res3 = sorter(pr, p, rlist)"
   ]
  },
  {
   "cell_type": "code",
   "execution_count": 145,
   "id": "d94cbc05-4cc9-4533-af78-fc0981b88ac8",
   "metadata": {},
   "outputs": [
    {
     "data": {
      "text/plain": [
       "\"I'd be happy to help you with that!\\n\\nFor Q2 and Q3, I'll explain the steps to find the answers:\\n\\n**Q2:**\\nThe given list is a combination of two lists. We need to find the common elements in both lists.\\n\\nStep-by-Step Solution:\\n1. Initialize an empty set `A` to store the unique numbers.\\n2. Iterate over the first list and add each number to set `A`.\\n3. Iterate over the second list and check if each number is already present in set `A`. If yes, add it to a new list `result`.\\n4. Return the `result` list.\\n\\nHere's the Python code:\\n```python\\ndef find_common_elements(list1, list2):\\n    A = set()\\n    for num in list1:\\n        A.add(num)\\n    result = []\\n    for num in list2:\\n        if num in A:\\n            result.append(num)\\n    return result\\n\\nlist1 = [7699, 1761, ...]\\nlist2 = [8232, 2054, ...]\\n\\nresult = find_common_elements(list1, list2)\\nprint(result)  # Output: [1761, 8232, ...]\\n```\\n\\n**Q3:**\\nThe given list is a combination of two lists. We need to sort the numbers in ascending order.\\n\\nStep-by-Step Solution:\\n1. Initialize an empty list `result` to store the sorted numbers.\\n2. Iterate over the combined list and add each number to `result`.\\n3. Sort the `result` list using Python's built-in `sorted()` function.\\n4. Return the sorted `result` list.\\n\\nHere's the Python code:\\n```python\\ndef sort_numbers(list):\\n    result = []\\n    for num in list:\\n        result.append(num)\\n    return sorted(result)\\n\\nlist = [7699, 1761, ...]\\n\\nresult = sort_numbers(list)\\nprint(result)  # Output: [41, 44, 3850, 470, ...]\\n```\\nPlease note that these are general solutions and might need to be adjusted based on the specific requirements of your task.\""
      ]
     },
     "execution_count": 145,
     "metadata": {},
     "output_type": "execute_result"
    }
   ],
   "source": [
    "res3['response']"
   ]
  },
  {
   "cell_type": "code",
   "execution_count": 153,
   "id": "907435ae-cc1b-432a-b43b-97f2a7c21a18",
   "metadata": {},
   "outputs": [],
   "source": [
    "pr2 = makePreRole('math professor', 'answer to the questions step by step, do not summary answer, please answer with full list')"
   ]
  },
  {
   "cell_type": "code",
   "execution_count": 154,
   "id": "1a35181b-be5b-4b82-b758-03408b7bb041",
   "metadata": {},
   "outputs": [],
   "source": [
    "res4 = sorter(pr2, p, rlist)"
   ]
  },
  {
   "cell_type": "code",
   "execution_count": 155,
   "id": "1bbbd129-71b9-46fb-b24c-1b65070c8ef8",
   "metadata": {},
   "outputs": [
    {
     "data": {
      "text/plain": [
       "\"I'd be happy to help you with that!\\n\\nQ2: Please Sort the numbers from smallest to largest with given list : [9640, 9477, 6057, 7962, 5008, 7693, 1651, 9645, 4918, 7957, 3881, 5800, 8270, 5945, 1577, 4309, 4676, 6125, 944, 5209, 1615, 466, 6363, 7121, 2725, 6190, 5547, 5793, 217, 4082, 9167, 785, 922, 2875, 8447, 4983, 7748, 4511, 1376, 5789, 1091, 6934]\\n\\nA2: The answer is:\\n[41, 44, 217, 466, 785, 922, 944, 1046, 1050, 1091, 1247, 1376, 1433, 1465, 1651, 1708, 1747, 1822, 1823, 2123, 217, 2324, 2359, 2384, 2393, 2439, 2584, 2585, 2624, 2725, 2875, 2959, 2999, 3128, 3404, 3556, 3601, 3711, 3745, 3753, 3881, 3913, 4024, 4082, 4125, 4159, 4309, 4337, 4511, 4533, 4625, 4637, 4656, 466, 4676, 4711, 4788, 4983, 5008, 5042, 5334, 5347, 5405, 5529, 5547, 5602, 5711, 5800, 582, 5872, 5921, 5945, 597, 6057, 6091, 6125, 6190, 6202, 6266, 6304, 6363, 6389, 6439, 6450, 6454, 6524, 6578, 6604, 6637, 6643, 6691, 6739, 6766, 6823, 6865, 6907, 6934, 6949, 6991, 7021, 7052, 7121, 7156, 7198, 7220, 7262, 7305, 7349, 7419, 7452, 7478, 7513, 7561, 7625, 7704, 7717, 7753, 7782, 7805, 785, 7905, 7916, 7922, 7952, 7957, 7962, 7977, 7989, 8048, 8090, 8137, 8151, 8204, 8232, 8270, 8304, 8333, 8352, 8392, 8435, 8466, 8492, 8520, 8556, 8579, 8628, 8665, 8707, 8741, 8784, 8829, 8866, 8894, 8933, 8945, 8964, 8993, 9024, 9057, 9092, 9121, 9156, 9167, 9205, 9228, 9254, 9292, 9321, 9359, 9400, 944, 9477, 9536, 9573, 9602, 9640, 9645]\\n\\nPlease note that I will not summarize the steps, but rather provide each step in detail.\\n\\nLet me know if you have any questions or need further assistance!\""
      ]
     },
     "execution_count": 155,
     "metadata": {},
     "output_type": "execute_result"
    }
   ],
   "source": [
    "res4['response']"
   ]
  },
  {
   "cell_type": "code",
   "execution_count": null,
   "id": "b11cbde9-04a8-4721-a74e-8a407e9290c7",
   "metadata": {},
   "outputs": [],
   "source": []
  }
 ],
 "metadata": {
  "kernelspec": {
   "display_name": "Python 3 (ipykernel)",
   "language": "python",
   "name": "python3"
  },
  "language_info": {
   "codemirror_mode": {
    "name": "ipython",
    "version": 3
   },
   "file_extension": ".py",
   "mimetype": "text/x-python",
   "name": "python",
   "nbconvert_exporter": "python",
   "pygments_lexer": "ipython3",
   "version": "3.11.7"
  }
 },
 "nbformat": 4,
 "nbformat_minor": 5
}
